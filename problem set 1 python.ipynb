{
 "cells": [
  {
   "cell_type": "code",
   "execution_count": 1,
   "id": "565a1f68",
   "metadata": {},
   "outputs": [
    {
     "name": "stdout",
     "output_type": "stream",
     "text": [
      "Enter a word: happy\n",
      "Pig Latin form of the word: appyhay\n"
     ]
    }
   ],
   "source": [
    "# question6\n",
    "# The code defines a function called pig which takes a string as input and returns its pig Latin form.\n",
    "def pig(word):\n",
    "    vowels = 'aeiouAEIOU'\n",
    "    if word[0] in vowels:\n",
    "        return word + 'way'\n",
    "    else:\n",
    "        return word[1:] + word[0] + 'ay'\n",
    "word = input(str(\"Enter a word: \"))\n",
    "print(\"Pig Latin form of the word:\", pig(word.lower()))\n",
    "\n",
    "\n"
   ]
  },
  {
   "cell_type": "code",
   "execution_count": 12,
   "id": "816ddd05",
   "metadata": {},
   "outputs": [
    {
     "name": "stdout",
     "output_type": "stream",
     "text": [
      "There are 15 patients of blood type A.\n",
      "There is one patient of blood type B.\n",
      "There are 13 patients of blood type AB.\n",
      "There are 15 patients of blood type O.\n",
      "There are no patients of blood type OO.\n"
     ]
    }
   ],
   "source": [
    "#Question7 \n",
    "import pandas as pd\n",
    "def bldcount():\n",
    "    blood_types = {'A': 0, 'B': 0, 'AB': 0, 'O': 0, 'OO': 0}\n",
    "    file_path = \"/Users/kritikaverma/Downloads/bloodtype1.txt\"\n",
    "    df = pd.read_csv(file_path, header=None)\n",
    "    with open(file_path, \"r\") as f:\n",
    "        for line in f:\n",
    "            line = line.strip()\n",
    "            blood_types[line] += 1\n",
    "    for blood_type, count in blood_types.items():\n",
    "        if count == 0:\n",
    "            print(f\"There are no patients of blood type {blood_type}.\")\n",
    "        elif count == 1:\n",
    "            print(f\"There is one patient of blood type {blood_type}.\")\n",
    "        else:\n",
    "            print(f\"There are {count} patients of blood type {blood_type}.\")\n",
    "bldcount()"
   ]
  },
  {
   "cell_type": "code",
   "execution_count": null,
   "id": "5f1e2518",
   "metadata": {},
   "outputs": [],
   "source": [
    "#question8 \n",
    "import pandas as pd\n",
    "def curconv(Currency, Amount):\n",
    "    file_path = \"/Users/kritikaverma/Downloads/currencies.txt\"\n",
    "    df = pd.read_csv(file_path, header=None)\n",
    "    conversion_rates = {}\n",
    "    with open(file_path, \"r\") as f:\n",
    "        for line in f:\n",
    "            currency, rate, _ = line.strip().split(\"\\t\")\n",
    "            conversion_rates[currency] = float(rate)\n",
    "    usd_amount = Amount * conversion_rates[Currency]\n",
    "    return usd_amount\n",
    "\n",
    "Currency = input(\"Enter currency code (e.g. EUR): \")\n",
    "Amount = int(input(\"Enter amount: \"))\n",
    "\n",
    "print(curconv(Currency, Amount))\n"
   ]
  },
  {
   "cell_type": "code",
   "execution_count": null,
   "id": "633e6d4e",
   "metadata": {},
   "outputs": [],
   "source": [
    "#ques9 Each of the following will cause an exception (an error). Identify what type of exception each will cause:\n",
    "\n",
    "#a.  Trying to add incompatible variables, as in adding 6 + ‘a’\n",
    "print(6 + \"a\")\n",
    "\n",
    "\n",
    "#ans a.  TypeError: unsupported operand type(s) for +: 'int' and 'str'"
   ]
  },
  {
   "cell_type": "code",
   "execution_count": null,
   "id": "fc932a44",
   "metadata": {},
   "outputs": [],
   "source": [
    "#ques 9 b.  Referring to the 12th item of a list that has only 10 items\n",
    "my_list = [1, 2, 3, 4, 5, 6, 7, 8, 9, 10]\n",
    "print(my_list[11])\n",
    "\n",
    "#ans b.  IndexError: list index out of range"
   ]
  },
  {
   "cell_type": "code",
   "execution_count": null,
   "id": "983af197",
   "metadata": {},
   "outputs": [],
   "source": [
    "#ques 9 .c.  Using a value that is out of range for a function’s input, such as calling math.sqrt(-1.0)\n",
    "import math\n",
    "result = math.sqrt(-1.0)\n",
    "print(result)\n",
    "#ans c.  ValueError: math domain error"
   ]
  },
  {
   "cell_type": "code",
   "execution_count": null,
   "id": "7d2b4d61",
   "metadata": {},
   "outputs": [],
   "source": [
    "#ques 9 .d.  Using an undeclared variable, such as print(x) when x has not been defined\n",
    "print(x)\n",
    "#ans d.  NameError: name 'x' is not defined"
   ]
  },
  {
   "cell_type": "code",
   "execution_count": null,
   "id": "a2943ad9",
   "metadata": {},
   "outputs": [],
   "source": [
    "#ques 9 .e.  Trying to open a file that does not exist, such as mistyping the file name or looking in the wrong directory.\n",
    "with open(\"xyzfile.txt\", \"r\") as f:\n",
    "        contents = f.read()\n",
    "#ans e.  FileNotFoundError: [Errno 2] No such file or directory: '...'"
   ]
  },
  {
   "cell_type": "code",
   "execution_count": 2,
   "id": "48c48774",
   "metadata": {},
   "outputs": [
    {
     "name": "stdout",
     "output_type": "stream",
     "text": [
      "Enter a message: hello\n",
      "[0, 0, 0, 0, 1, 0, 0, 1, 0, 0, 0, 2, 0, 0, 1, 0, 0, 0, 0, 0, 0, 0, 0, 0, 0, 0]\n"
     ]
    }
   ],
   "source": [
    "#ques 10\n",
    "def frequencies(msg):\n",
    "    letter_count = [0] * 26\n",
    "    letters = 'abcdefghijklmnopqrstuvwxyz'\n",
    "    for char in msg:\n",
    "        if char in letters:\n",
    "            letter_count[letters.index(char)] += 1\n",
    "    return letter_count\n",
    "msg = input(str('Enter a message: '))\n",
    "print(frequencies(msg))"
   ]
  },
  {
   "cell_type": "code",
   "execution_count": null,
   "id": "0d1f9f53",
   "metadata": {},
   "outputs": [],
   "source": [
    "//Question 1 C#\n",
    "// What data type is each of the following?\n",
    "// 5\n",
    "\n",
    "using System;\n",
    "\n",
    "namespace DataTypeExample\n",
    "{\n",
    "    class Program\n",
    "    {\n",
    "        [STAThread]\n",
    "        static void Main(string[] args)\n",
    "        {\n",
    "            int value = 5;\n",
    "            Console.WriteLine(\"The data type of \" + value + \" is \" + value.GetType());\n",
    "        }\n",
    "    }\n",
    "}\n",
    "//ans. The data type of 5 is System.Int32"
   ]
  },
  {
   "cell_type": "code",
   "execution_count": 7,
   "id": "0f646fd0",
   "metadata": {},
   "outputs": [
    {
     "ename": "SyntaxError",
     "evalue": "invalid syntax (2802473564.py, line 3)",
     "output_type": "error",
     "traceback": [
      "\u001b[0;36m  File \u001b[0;32m\"/var/folders/94/nr61c9qd0v7crcbdz5crvdf00000gn/T/ipykernel_75943/2802473564.py\"\u001b[0;36m, line \u001b[0;32m3\u001b[0m\n\u001b[0;31m    using System;\u001b[0m\n\u001b[0m          ^\u001b[0m\n\u001b[0;31mSyntaxError\u001b[0m\u001b[0;31m:\u001b[0m invalid syntax\n"
     ]
    }
   ],
   "source": [
    "#//ques1b.  \n",
    "\n",
    "using System;\n",
    "\n",
    "namespace TypeCheck\n",
    "{\n",
    "    class Program\n",
    "    {\n",
    "        static void Main(string[] args)\n",
    "        {\n",
    "            double value = 0.5;\n",
    "            Type type = value.GetType();\n",
    "            Console.WriteLine(\"The type of the value is: \" + type);\n",
    "        }\n",
    "    }\n",
    "}\n",
    "#//ans. The type of the value is: System.Double"
   ]
  },
  {
   "cell_type": "code",
   "execution_count": 4,
   "id": "f1a575d3",
   "metadata": {},
   "outputs": [
    {
     "ename": "SyntaxError",
     "evalue": "invalid syntax (1041309280.py, line 1)",
     "output_type": "error",
     "traceback": [
      "\u001b[0;36m  File \u001b[0;32m\"/var/folders/94/nr61c9qd0v7crcbdz5crvdf00000gn/T/ipykernel_75943/1041309280.py\"\u001b[0;36m, line \u001b[0;32m1\u001b[0m\n\u001b[0;31m    //ques1 c\u001b[0m\n\u001b[0m    ^\u001b[0m\n\u001b[0;31mSyntaxError\u001b[0m\u001b[0;31m:\u001b[0m invalid syntax\n"
     ]
    }
   ],
   "source": [
    "//ques1 c\n",
    "using System;\n",
    "\n",
    "namespace TypeCheck\n",
    "{\n",
    "    class Program\n",
    "    {\n",
    "        static void Main(string[] args)\n",
    "        {\n",
    "            bool result = 5 > 1;\n",
    "            Type type = result.GetType();\n",
    "            Console.WriteLine(\"The type of the expression is: \" + type);\n",
    "        }\n",
    "    }\n",
    "} \n",
    "\n",
    "//ans. The type of the expression is: System.Boolean"
   ]
  },
  {
   "cell_type": "code",
   "execution_count": 5,
   "id": "b992622e",
   "metadata": {},
   "outputs": [
    {
     "ename": "SyntaxError",
     "evalue": "invalid syntax (4068614181.py, line 1)",
     "output_type": "error",
     "traceback": [
      "\u001b[0;36m  File \u001b[0;32m\"/var/folders/94/nr61c9qd0v7crcbdz5crvdf00000gn/T/ipykernel_75943/4068614181.py\"\u001b[0;36m, line \u001b[0;32m1\u001b[0m\n\u001b[0;31m    //ques1 d\u001b[0m\n\u001b[0m    ^\u001b[0m\n\u001b[0;31mSyntaxError\u001b[0m\u001b[0;31m:\u001b[0m invalid syntax\n"
     ]
    }
   ],
   "source": [
    "//ques1 d\n",
    "using System;\n",
    "\n",
    "namespace TypeCheckExample\n",
    "{\n",
    "    class Program\n",
    "    {\n",
    "        static void Main(string[] args)\n",
    "        {\n",
    "            var value = \"5\";\n",
    "            Console.WriteLine(value.GetType().ToString());\n",
    "        }\n",
    "    }\n",
    "}\n",
    "// ans System.String"
   ]
  },
  {
   "cell_type": "code",
   "execution_count": 14,
   "id": "61e42dcf",
   "metadata": {},
   "outputs": [
    {
     "ename": "SyntaxError",
     "evalue": "invalid syntax (932383361.py, line 1)",
     "output_type": "error",
     "traceback": [
      "\u001b[0;36m  File \u001b[0;32m\"/var/folders/94/nr61c9qd0v7crcbdz5crvdf00000gn/T/ipykernel_75943/932383361.py\"\u001b[0;36m, line \u001b[0;32m1\u001b[0m\n\u001b[0;31m    //ques1 e\u001b[0m\n\u001b[0m    ^\u001b[0m\n\u001b[0;31mSyntaxError\u001b[0m\u001b[0;31m:\u001b[0m invalid syntax\n"
     ]
    }
   ],
   "source": [
    "//ques1 e\n",
    "using System;\n",
    "\n",
    "namespace TypeOfExpression\n",
    "{\n",
    "    class Program\n",
    "    {\n",
    "        static void Main(string[] args)\n",
    "        {\n",
    "            int result = 5 * 2;\n",
    "            Console.WriteLine(\"The type of 5 * 2 is \" + result.GetType().ToString());\n",
    "        }\n",
    "    }\n",
    "}\n",
    "//ans The type of 5 * 2 is System.Int32\n",
    "\n"
   ]
  },
  {
   "cell_type": "code",
   "execution_count": null,
   "id": "4b16e14d",
   "metadata": {},
   "outputs": [],
   "source": [
    "//ques1 f\n",
    "using System;\n",
    "\n",
    "namespace TypeOfExpression\n",
    "{\n",
    "    class Program\n",
    "    {\n",
    "        static void Main(string[] args)\n",
    "        {\n",
    "            int x = int.Parse(\"5\");\n",
    "            int result = x * 2;\n",
    "\n",
    "            Console.WriteLine(\"The type of '5' * 2 is \" + result.GetType().ToString());\n",
    "        }\n",
    "    }\n",
    "}\n",
    "\n",
    "//ans. The type of '5' * 2 is System.Int32"
   ]
  },
  {
   "cell_type": "code",
   "execution_count": null,
   "id": "bf0570b3",
   "metadata": {},
   "outputs": [],
   "source": [
    "//ques1 g\n",
    "using System;\n",
    "\n",
    "namespace TypeOfExpression\n",
    "{\n",
    "    class Program\n",
    "    {\n",
    "        static void Main(string[] args)\n",
    "        {\n",
    "            string result = \"5\" + \"2\";\n",
    "            Console.WriteLine(\"The type of '5' + '2' is \" + result.GetType().ToString());\n",
    "        }\n",
    "    }\n",
    "}\n",
    "//ans. The type of '5' + '2' is System.String"
   ]
  },
  {
   "cell_type": "code",
   "execution_count": null,
   "id": "44db3c0a",
   "metadata": {},
   "outputs": [],
   "source": [
    "//ques1 h\n",
    "using System;\n",
    "\n",
    "namespace TypeOfExpression\n",
    "{\n",
    "    class Program\n",
    "    {\n",
    "        static void Main(string[] args)\n",
    "        {\n",
    "            int result = 5 / 2;\n",
    "            Console.WriteLine(\"The type of 5 / 2 is \" + result.GetType().ToString());\n",
    "        }\n",
    "    }\n",
    "}\n",
    "//ans The type of 5 / 2 is System.Int32"
   ]
  },
  {
   "cell_type": "code",
   "execution_count": null,
   "id": "5a47a9ea",
   "metadata": {},
   "outputs": [],
   "source": [
    "//ques1 i\n",
    "using System;\n",
    "\n",
    "namespace TypeOfExpression\n",
    "{\n",
    "    class Program\n",
    "    {\n",
    "        static void Main(string[] args)\n",
    "        {\n",
    "            int result = 5 % 2;\n",
    "            Console.WriteLine(\"The type of 5 % 2 is \" + result.GetType().ToString());\n",
    "        }\n",
    "    }\n",
    "}\n",
    "//ans The type of 5 % 2 is System.Int32"
   ]
  },
  {
   "cell_type": "code",
   "execution_count": null,
   "id": "37eab63a",
   "metadata": {},
   "outputs": [],
   "source": [
    "//ques j\n",
    "using System;\n",
    "\n",
    "namespace TypeOfExpression\n",
    "{\n",
    "    class Program\n",
    "    {\n",
    "        static void Main(string[] args)\n",
    "        {\n",
    "            int[] arr = new int[] { 5, 2, 1 };\n",
    "            Console.WriteLine(\"The type of {5, 2, 1} is \" + arr.GetType().ToString());\n",
    "        }\n",
    "    }\n",
    "}\n",
    "//ans The type of {5, 2, 1} is System.Int32[]"
   ]
  },
  {
   "cell_type": "code",
   "execution_count": null,
   "id": "d497e030",
   "metadata": {},
   "outputs": [],
   "source": [
    "//ques k\n",
    "using System;\n",
    "\n",
    "namespace TypeOfExpression\n",
    "{\n",
    "    class Program\n",
    "    {\n",
    "        static void Main(string[] args)\n",
    "        {\n",
    "            bool result = 5 == 3;\n",
    "            Console.WriteLine(\"The type of 5 == 3 is \" + result.GetType().ToString());\n",
    "        }\n",
    "    }\n",
    "}\n",
    "//ans The type of 5 == 3 is System.Boolean"
   ]
  },
  {
   "cell_type": "code",
   "execution_count": 15,
   "id": "a9126172",
   "metadata": {},
   "outputs": [
    {
     "ename": "SyntaxError",
     "evalue": "invalid syntax (1376671160.py, line 1)",
     "output_type": "error",
     "traceback": [
      "\u001b[0;36m  File \u001b[0;32m\"/var/folders/94/nr61c9qd0v7crcbdz5crvdf00000gn/T/ipykernel_75943/1376671160.py\"\u001b[0;36m, line \u001b[0;32m1\u001b[0m\n\u001b[0;31m    //ques l\u001b[0m\n\u001b[0m    ^\u001b[0m\n\u001b[0;31mSyntaxError\u001b[0m\u001b[0;31m:\u001b[0m invalid syntax\n"
     ]
    }
   ],
   "source": [
    "//ques l\n",
    "using System;\n",
    "\n",
    "namespace TypeOfExpression\n",
    "{\n",
    "    class Program\n",
    "    {\n",
    "        static void Main(string[] args)\n",
    "        {\n",
    "            double pi = Math.PI;\n",
    "            Console.WriteLine(\"The type of Math.PI is \" + pi.GetType().ToString());\n",
    "        }\n",
    "    }\n",
    "}\n",
    "//ans The type of Math.PI is System.Double"
   ]
  },
  {
   "cell_type": "code",
   "execution_count": 8,
   "id": "29235d5c",
   "metadata": {},
   "outputs": [
    {
     "ename": "SyntaxError",
     "evalue": "invalid syntax (1628506566.py, line 1)",
     "output_type": "error",
     "traceback": [
      "\u001b[0;36m  File \u001b[0;32m\"/var/folders/94/nr61c9qd0v7crcbdz5crvdf00000gn/T/ipykernel_75943/1628506566.py\"\u001b[0;36m, line \u001b[0;32m1\u001b[0m\n\u001b[0;31m    //ques2 a\u001b[0m\n\u001b[0m    ^\u001b[0m\n\u001b[0;31mSyntaxError\u001b[0m\u001b[0;31m:\u001b[0m invalid syntax\n"
     ]
    }
   ],
   "source": [
    "//ques2 a\n",
    "\n",
    "using System;\n",
    "\n",
    "namespace LetterCount\n",
    "{\n",
    "    class Program\n",
    "    {\n",
    "        static void Main(string[] args)\n",
    "        {\n",
    "            string word = \"Supercalifragilisticexpialidocious\";\n",
    "            int letterCount = word.Length;\n",
    "            Console.WriteLine(\"The number of letters in the word '\" + word + \"' is: \" + letterCount);\n",
    "        }\n",
    "    }\n",
    "}\n",
    "//The number of letters in the word 'Supercalifragilisticexpialidocious' is: 34"
   ]
  },
  {
   "cell_type": "code",
   "execution_count": 9,
   "id": "dece61a6",
   "metadata": {},
   "outputs": [
    {
     "ename": "SyntaxError",
     "evalue": "invalid syntax (2448840369.py, line 1)",
     "output_type": "error",
     "traceback": [
      "\u001b[0;36m  File \u001b[0;32m\"/var/folders/94/nr61c9qd0v7crcbdz5crvdf00000gn/T/ipykernel_75943/2448840369.py\"\u001b[0;36m, line \u001b[0;32m1\u001b[0m\n\u001b[0;31m    //ques2b\u001b[0m\n\u001b[0m    ^\u001b[0m\n\u001b[0;31mSyntaxError\u001b[0m\u001b[0;31m:\u001b[0m invalid syntax\n"
     ]
    }
   ],
   "source": [
    "//ques2b\n",
    "using System;\n",
    "\n",
    "namespace SubstringCheck\n",
    "{\n",
    "    class Program\n",
    "    {\n",
    "        static void Main(string[] args)\n",
    "        {\n",
    "            string word = \"Supercalifragilisticexpialidocious\";\n",
    "            bool containsIce = word.Contains(\"ice\");\n",
    "            Console.WriteLine(\"The word '\" + word + \"' contains 'ice' as a substring: \" + containsIce);\n",
    "        }\n",
    "    }\n",
    "}\n",
    "//The word 'Supercalifragilisticexpialidocious' contains 'ice' as a substring: True"
   ]
  },
  {
   "cell_type": "code",
   "execution_count": 10,
   "id": "7370ada8",
   "metadata": {},
   "outputs": [
    {
     "ename": "SyntaxError",
     "evalue": "invalid syntax (195379002.py, line 1)",
     "output_type": "error",
     "traceback": [
      "\u001b[0;36m  File \u001b[0;32m\"/var/folders/94/nr61c9qd0v7crcbdz5crvdf00000gn/T/ipykernel_75943/195379002.py\"\u001b[0;36m, line \u001b[0;32m1\u001b[0m\n\u001b[0;31m    //ques2c\u001b[0m\n\u001b[0m    ^\u001b[0m\n\u001b[0;31mSyntaxError\u001b[0m\u001b[0;31m:\u001b[0m invalid syntax\n"
     ]
    }
   ],
   "source": [
    "//ques2c\n",
    "using System;\n",
    "\n",
    "namespace LongestWord\n",
    "{\n",
    "    class Program\n",
    "    {\n",
    "        static void Main(string[] args)\n",
    "        {\n",
    "            string[] words = { \"Supercalifragilisticexpialidocious\", \"Honorificabilitudinitatibus\", \"Bababadalgharaghtakamminarronnkonn\" };\n",
    "            int longestLength = 0;\n",
    "            string longestWord = \"\";\n",
    "            foreach (string word in words)\n",
    "            {\n",
    "                if (word.Length > longestLength)\n",
    "                {\n",
    "                    longestLength = word.Length;\n",
    "                    longestWord = word;\n",
    "                }\n",
    "            }\n",
    "            Console.WriteLine(\"The longest word is: \" + longestWord);\n",
    "        }\n",
    "    }\n",
    "}\n",
    "//The longest word is: Supercalifragilisticexpialidocious"
   ]
  },
  {
   "cell_type": "code",
   "execution_count": 11,
   "id": "6afa138d",
   "metadata": {},
   "outputs": [
    {
     "ename": "SyntaxError",
     "evalue": "invalid syntax (2986482860.py, line 1)",
     "output_type": "error",
     "traceback": [
      "\u001b[0;36m  File \u001b[0;32m\"/var/folders/94/nr61c9qd0v7crcbdz5crvdf00000gn/T/ipykernel_75943/2986482860.py\"\u001b[0;36m, line \u001b[0;32m1\u001b[0m\n\u001b[0;31m    //ques2d\u001b[0m\n\u001b[0m    ^\u001b[0m\n\u001b[0;31mSyntaxError\u001b[0m\u001b[0;31m:\u001b[0m invalid syntax\n"
     ]
    }
   ],
   "source": [
    "//ques2d\n",
    "using System;\n",
    "using System.Linq;\n",
    "\n",
    "namespace ComposerDictionary\n",
    "{\n",
    "    class Program\n",
    "    {\n",
    "        static void Main(string[] args)\n",
    "        {\n",
    "            string[] composers = { \"Berlioz\", \"Borodin\", \"Brian\", \"Bartok\", \"Bellini\", \"Buxtehude\", \"Bernstein\" };\n",
    "            Array.Sort(composers);\n",
    "            Console.WriteLine(\"The first composer in the dictionary is: \" + composers.First());\n",
    "            Console.WriteLine(\"The last composer in the dictionary is: \" + composers.Last());\n",
    "        }\n",
    "    }\n",
    "}\n",
    "//ans. The first composer in the dictionary is: Bartok\n",
    "The last composer in the dictionary is: Buxtehude"
   ]
  },
  {
   "cell_type": "code",
   "execution_count": 12,
   "id": "93e866c8",
   "metadata": {},
   "outputs": [
    {
     "ename": "SyntaxError",
     "evalue": "invalid syntax (1805055084.py, line 1)",
     "output_type": "error",
     "traceback": [
      "\u001b[0;36m  File \u001b[0;32m\"/var/folders/94/nr61c9qd0v7crcbdz5crvdf00000gn/T/ipykernel_75943/1805055084.py\"\u001b[0;36m, line \u001b[0;32m1\u001b[0m\n\u001b[0;31m    //ques3.\u001b[0m\n\u001b[0m    ^\u001b[0m\n\u001b[0;31mSyntaxError\u001b[0m\u001b[0;31m:\u001b[0m invalid syntax\n"
     ]
    }
   ],
   "source": [
    "//ques3.\n",
    "using System;\n",
    "\n",
    "namespace TriangleArea\n",
    "{\n",
    "    class Program\n",
    "    {\n",
    "        static void Main(string[] args)\n",
    "        {\n",
    "            Console.WriteLine(triangleArea(2, 2, 2));\n",
    "        }\n",
    "\n",
    "        static double triangleArea(double a, double b, double c)\n",
    "        {\n",
    "            double s = (a + b + c) / 2;\n",
    "            return Math.Sqrt(s * (s - a) * (s - b) * (s - c));\n",
    "        }\n",
    "    }\n",
    "}\n",
    "//ans 1.73205080756888"
   ]
  },
  {
   "cell_type": "code",
   "execution_count": 13,
   "id": "027d56e3",
   "metadata": {},
   "outputs": [
    {
     "ename": "SyntaxError",
     "evalue": "invalid syntax (2021638688.py, line 1)",
     "output_type": "error",
     "traceback": [
      "\u001b[0;36m  File \u001b[0;32m\"/var/folders/94/nr61c9qd0v7crcbdz5crvdf00000gn/T/ipykernel_75943/2021638688.py\"\u001b[0;36m, line \u001b[0;32m1\u001b[0m\n\u001b[0;31m    //ques4\u001b[0m\n\u001b[0m    ^\u001b[0m\n\u001b[0;31mSyntaxError\u001b[0m\u001b[0;31m:\u001b[0m invalid syntax\n"
     ]
    }
   ],
   "source": [
    "//ques4\n",
    "using System;\n",
    "using System.Linq;\n",
    "\n",
    "namespace OddEvenArray\n",
    "{\n",
    "    class Program\n",
    "    {\n",
    "        static void Main(string[] args)\n",
    "        {\n",
    "            Console.WriteLine(\"Input the number of elements to be stored in the array: \");\n",
    "            int n = int.Parse(Console.ReadLine());\n",
    "\n",
    "            int[] arr = new int[n];\n",
    "\n",
    "            Console.WriteLine(\"Input \" + n + \" elements in the array: \");\n",
    "            for (int i = 0; i < n; i++)\n",
    "            {\n",
    "                Console.WriteLine(\"element - \" + i + \": \");\n",
    "                arr[i] = int.Parse(Console.ReadLine());\n",
    "            }\n",
    "\n",
    "            int[] evenArray = arr.Where(x => x % 2 == 0).ToArray();\n",
    "            int[] oddArray = arr.Where(x => x % 2 != 0).ToArray();\n",
    "\n",
    "            Console.WriteLine(\"The Even elements are: \");\n",
    "            foreach (int item in evenArray)\n",
    "            {\n",
    "                Console.Write(item + \" \");\n",
    "            }\n",
    "            Console.WriteLine();\n",
    "\n",
    "            Console.WriteLine(\"The Odd elements are: \");\n",
    "            foreach (int item in oddArray)\n",
    "            {\n",
    "                Console.Write(item + \" \");\n",
    "            }\n",
    "        }\n",
    "    }\n",
    "}\n",
    "//ans. Input the number of elements to be stored in the array: \n",
    "5\n",
    "Input 5 elements in the array: \n",
    "element - 0: \n",
    "25\n",
    "element - 1: \n",
    "47\n",
    "element - 2: \n",
    "42\n",
    "element - 3: \n",
    "56\n",
    "element - 4: \n",
    "32\n",
    "The Even elements are: \n",
    "42 56 32 \n",
    "The Odd elements are: \n",
    "25 47 "
   ]
  },
  {
   "cell_type": "code",
   "execution_count": null,
   "id": "aa9eabcf",
   "metadata": {},
   "outputs": [],
   "source": []
  }
 ],
 "metadata": {
  "kernelspec": {
   "display_name": "Python 3 (ipykernel)",
   "language": "python",
   "name": "python3"
  },
  "language_info": {
   "codemirror_mode": {
    "name": "ipython",
    "version": 3
   },
   "file_extension": ".py",
   "mimetype": "text/x-python",
   "name": "python",
   "nbconvert_exporter": "python",
   "pygments_lexer": "ipython3",
   "version": "3.9.13"
  }
 },
 "nbformat": 4,
 "nbformat_minor": 5
}
